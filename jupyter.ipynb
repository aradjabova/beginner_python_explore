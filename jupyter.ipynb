{
 "metadata": {
  "language_info": {
   "codemirror_mode": {
    "name": "ipython",
    "version": 3
   },
   "file_extension": ".py",
   "mimetype": "text/x-python",
   "name": "python",
   "nbconvert_exporter": "python",
   "pygments_lexer": "ipython3",
   "version": "3.8.3-final"
  },
  "orig_nbformat": 2,
  "kernelspec": {
   "name": "Python 3.8.3 32-bit ('base': conda)",
   "display_name": "Python 3.8.3 32-bit ('base': conda)",
   "metadata": {
    "interpreter": {
     "hash": "5253dc79cadaeb4edcaad43153f480ceadb58c6dbbb7c202c633b3cd342b8242"
    }
   }
  }
 },
 "nbformat": 4,
 "nbformat_minor": 2,
 "cells": [
  {
   "cell_type": "code",
   "execution_count": 3,
   "metadata": {},
   "outputs": [
    {
     "output_type": "stream",
     "name": "stdout",
     "text": [
      "Collecting kaggle\n  Downloading kaggle-1.5.9.tar.gz (58 kB)\nRequirement already satisfied: six>=1.10 in c:\\users\\alisa\\anaconda3\\lib\\site-packages (from kaggle) (1.15.0)\nRequirement already satisfied: certifi in c:\\users\\alisa\\anaconda3\\lib\\site-packages (from kaggle) (2020.6.20)\nRequirement already satisfied: python-dateutil in c:\\users\\alisa\\anaconda3\\lib\\site-packages (from kaggle) (2.8.1)\nRequirement already satisfied: requests in c:\\users\\alisa\\anaconda3\\lib\\site-packages (from kaggle) (2.24.0)\nRequirement already satisfied: tqdm in c:\\users\\alisa\\anaconda3\\lib\\site-packages (from kaggle) (4.47.0)\nCollecting python-slugify\n  Using cached python-slugify-4.0.1.tar.gz (11 kB)\nCollecting slugify\n  Using cached slugify-0.0.1.tar.gz (1.2 kB)\nRequirement already satisfied: urllib3 in c:\\users\\alisa\\anaconda3\\lib\\site-packages (from kaggle) (1.25.9)\nRequirement already satisfied: idna<3,>=2.5 in c:\\users\\alisa\\anaconda3\\lib\\site-packages (from requests->kaggle) (2.10)\nRequirement already satisfied: chardet<4,>=3.0.2 in c:\\users\\alisa\\anaconda3\\lib\\site-packages (from requests->kaggle) (3.0.4)\nCollecting text-unidecode>=1.3\n  Using cached text_unidecode-1.3-py2.py3-none-any.whl (78 kB)\nBuilding wheels for collected packages: kaggle, python-slugify, slugify\n  Building wheel for kaggle (setup.py): started\n  Building wheel for kaggle (setup.py): finished with status 'done'\n  Created wheel for kaggle: filename=kaggle-1.5.9-py3-none-any.whl size=73270 sha256=63100d84ba53aa2b744cd76b83748e817431da75786eddcacfd14ff9c115057c\n  Stored in directory: c:\\users\\alisa\\appdata\\local\\pip\\cache\\wheels\\ed\\bd\\77\\e12cac6080de7e1185049bbfb87c7f250d74fd4f9389af0c9c\n  Building wheel for python-slugify (setup.py): started\n  Building wheel for python-slugify (setup.py): finished with status 'done'\n  Created wheel for python-slugify: filename=python_slugify-4.0.1-py2.py3-none-any.whl size=6774 sha256=df3a217cb20c73e979f1c5d910922d6dbd697b45e72219b2ed36f0778fb7a6f6\n  Stored in directory: c:\\users\\alisa\\appdata\\local\\pip\\cache\\wheels\\91\\4d\\4f\\e740a68c215791688c46c4d6251770a570e8dfea91af1acb5c\n  Building wheel for slugify (setup.py): started\n  Building wheel for slugify (setup.py): finished with status 'done'\n  Created wheel for slugify: filename=slugify-0.0.1-py3-none-any.whl size=1914 sha256=159e617970166e64a065c0821579066a048d5d7317900ba56013c9a6611c783f\n  Stored in directory: c:\\users\\alisa\\appdata\\local\\pip\\cache\\wheels\\a2\\49\\ff\\b5d3130b393f908f0faebf7b4069b259e97d23821826553a76\nSuccessfully built kaggle python-slugify slugify\nInstalling collected packages: text-unidecode, python-slugify, slugify, kaggle\nSuccessfully installed kaggle-1.5.9 python-slugify-4.0.1 slugify-0.0.1 text-unidecode-1.3\n"
     ]
    }
   ],
   "source": [
    "!pip install kaggle"
   ]
  },
  {
   "cell_type": "code",
   "execution_count": 4,
   "metadata": {},
   "outputs": [
    {
     "output_type": "stream",
     "name": "stdout",
     "text": [
      "Downloading netflix-shows.zip to C:\\Users\\alisa\\AppData\\Local\\Programs\\Microsoft VS Code\n",
      "\n",
      "\n",
      "  0%|          | 0.00/971k [00:00<?, ?B/s]\n",
      "100%|██████████| 971k/971k [00:00<00:00, 11.7MB/s]\n"
     ]
    }
   ],
   "source": [
    "!kaggle datasets download -d shivamb/netflix-shows"
   ]
  },
  {
   "cell_type": "code",
   "execution_count": 6,
   "metadata": {},
   "outputs": [
    {
     "output_type": "stream",
     "name": "stderr",
     "text": [
      "'unzip' is not recognized as an internal or external command,\noperable program or batch file.\n"
     ]
    }
   ],
   "source": [
    "!unzip "
   ]
  },
  {
   "cell_type": "code",
   "execution_count": 8,
   "metadata": {},
   "outputs": [
    {
     "output_type": "error",
     "ename": "FileNotFoundError",
     "evalue": "[Errno 2] No such file or directory: 'netflix-shows.zip\\\\netflix_titles.csv'",
     "traceback": [
      "\u001b[1;31m---------------------------------------------------------------------------\u001b[0m",
      "\u001b[1;31mFileNotFoundError\u001b[0m                         Traceback (most recent call last)",
      "\u001b[1;32m<ipython-input-8-b184dd26eef2>\u001b[0m in \u001b[0;36m<module>\u001b[1;34m\u001b[0m\n\u001b[0;32m      1\u001b[0m \u001b[1;32mimport\u001b[0m \u001b[0mzipfile\u001b[0m\u001b[1;33m\u001b[0m\u001b[1;33m\u001b[0m\u001b[0m\n\u001b[0;32m      2\u001b[0m \u001b[1;32mwith\u001b[0m \u001b[0mzipfile\u001b[0m\u001b[1;33m.\u001b[0m\u001b[0mZipFile\u001b[0m\u001b[1;33m(\u001b[0m\u001b[1;34m'netflix-shows.zip'\u001b[0m\u001b[1;33m,\u001b[0m \u001b[1;34m'r'\u001b[0m\u001b[1;33m)\u001b[0m \u001b[1;32mas\u001b[0m \u001b[0mzip_ref\u001b[0m\u001b[1;33m:\u001b[0m\u001b[1;33m\u001b[0m\u001b[1;33m\u001b[0m\u001b[0m\n\u001b[1;32m----> 3\u001b[1;33m     \u001b[0mzip_ref\u001b[0m\u001b[1;33m.\u001b[0m\u001b[0mextractall\u001b[0m\u001b[1;33m(\u001b[0m\u001b[1;34m'netflix-shows.zip'\u001b[0m\u001b[1;33m)\u001b[0m\u001b[1;33m\u001b[0m\u001b[1;33m\u001b[0m\u001b[0m\n\u001b[0m",
      "\u001b[1;32m~\\anaconda3\\lib\\zipfile.py\u001b[0m in \u001b[0;36mextractall\u001b[1;34m(self, path, members, pwd)\u001b[0m\n\u001b[0;32m   1644\u001b[0m \u001b[1;33m\u001b[0m\u001b[0m\n\u001b[0;32m   1645\u001b[0m         \u001b[1;32mfor\u001b[0m \u001b[0mzipinfo\u001b[0m \u001b[1;32min\u001b[0m \u001b[0mmembers\u001b[0m\u001b[1;33m:\u001b[0m\u001b[1;33m\u001b[0m\u001b[1;33m\u001b[0m\u001b[0m\n\u001b[1;32m-> 1646\u001b[1;33m             \u001b[0mself\u001b[0m\u001b[1;33m.\u001b[0m\u001b[0m_extract_member\u001b[0m\u001b[1;33m(\u001b[0m\u001b[0mzipinfo\u001b[0m\u001b[1;33m,\u001b[0m \u001b[0mpath\u001b[0m\u001b[1;33m,\u001b[0m \u001b[0mpwd\u001b[0m\u001b[1;33m)\u001b[0m\u001b[1;33m\u001b[0m\u001b[1;33m\u001b[0m\u001b[0m\n\u001b[0m\u001b[0;32m   1647\u001b[0m \u001b[1;33m\u001b[0m\u001b[0m\n\u001b[0;32m   1648\u001b[0m     \u001b[1;33m@\u001b[0m\u001b[0mclassmethod\u001b[0m\u001b[1;33m\u001b[0m\u001b[1;33m\u001b[0m\u001b[0m\n",
      "\u001b[1;32m~\\anaconda3\\lib\\zipfile.py\u001b[0m in \u001b[0;36m_extract_member\u001b[1;34m(self, member, targetpath, pwd)\u001b[0m\n\u001b[0;32m   1698\u001b[0m \u001b[1;33m\u001b[0m\u001b[0m\n\u001b[0;32m   1699\u001b[0m         \u001b[1;32mwith\u001b[0m \u001b[0mself\u001b[0m\u001b[1;33m.\u001b[0m\u001b[0mopen\u001b[0m\u001b[1;33m(\u001b[0m\u001b[0mmember\u001b[0m\u001b[1;33m,\u001b[0m \u001b[0mpwd\u001b[0m\u001b[1;33m=\u001b[0m\u001b[0mpwd\u001b[0m\u001b[1;33m)\u001b[0m \u001b[1;32mas\u001b[0m \u001b[0msource\u001b[0m\u001b[1;33m,\u001b[0m\u001b[0;31m \u001b[0m\u001b[0;31m\\\u001b[0m\u001b[1;33m\u001b[0m\u001b[1;33m\u001b[0m\u001b[0m\n\u001b[1;32m-> 1700\u001b[1;33m              \u001b[0mopen\u001b[0m\u001b[1;33m(\u001b[0m\u001b[0mtargetpath\u001b[0m\u001b[1;33m,\u001b[0m \u001b[1;34m\"wb\"\u001b[0m\u001b[1;33m)\u001b[0m \u001b[1;32mas\u001b[0m \u001b[0mtarget\u001b[0m\u001b[1;33m:\u001b[0m\u001b[1;33m\u001b[0m\u001b[1;33m\u001b[0m\u001b[0m\n\u001b[0m\u001b[0;32m   1701\u001b[0m             \u001b[0mshutil\u001b[0m\u001b[1;33m.\u001b[0m\u001b[0mcopyfileobj\u001b[0m\u001b[1;33m(\u001b[0m\u001b[0msource\u001b[0m\u001b[1;33m,\u001b[0m \u001b[0mtarget\u001b[0m\u001b[1;33m)\u001b[0m\u001b[1;33m\u001b[0m\u001b[1;33m\u001b[0m\u001b[0m\n\u001b[0;32m   1702\u001b[0m \u001b[1;33m\u001b[0m\u001b[0m\n",
      "\u001b[1;31mFileNotFoundError\u001b[0m: [Errno 2] No such file or directory: 'netflix-shows.zip\\\\netflix_titles.csv'"
     ]
    }
   ],
   "source": [
    "import zipfile\n",
    "with zipfile.ZipFile('netflix-shows.zip', 'r') as zip_ref:\n",
    "    zip_ref.extractall('netflix-shows.zip')"
   ]
  },
  {
   "cell_type": "code",
   "execution_count": null,
   "metadata": {},
   "outputs": [],
   "source": []
  }
 ]
}